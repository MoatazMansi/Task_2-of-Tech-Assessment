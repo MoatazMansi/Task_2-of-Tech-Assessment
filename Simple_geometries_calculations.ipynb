{
 "cells": [
  {
   "cell_type": "markdown",
   "metadata": {},
   "source": [
    "### Prepare the package "
   ]
  },
  {
   "cell_type": "code",
   "execution_count": 1,
   "metadata": {},
   "outputs": [],
   "source": [
    "#conda install shapely"
   ]
  },
  {
   "cell_type": "markdown",
   "metadata": {},
   "source": [
    "### Importing libraries"
   ]
  },
  {
   "cell_type": "code",
   "execution_count": 2,
   "metadata": {},
   "outputs": [],
   "source": [
    "## for manipulation of geometric shapes\n",
    "#! pip install shapely\n",
    "from shapely.geometry import Polygon\n",
    "from shapely import geometry\n",
    "##to converting objects into a byte stream to store it in a file\n",
    "import pickle"
   ]
  },
  {
   "cell_type": "markdown",
   "metadata": {},
   "source": [
    "### Create simple polygon files"
   ]
  },
  {
   "cell_type": "code",
   "execution_count": 3,
   "metadata": {},
   "outputs": [],
   "source": [
    "# Let's create twe polygons\n",
    "# cors of the first polygon \n",
    "a = [(75, 30),(85, 30),(75, 10)]\n",
    "# cors of the second polygon \n",
    "b = [(82,32.261),(79.304,32.474),(77.282,30.261),(81,28)]\n",
    "# creat polygong using polygon fn\n",
    "polygon1 = geometry.Polygon(a)\n",
    "polygon2 = geometry.Polygon(b)\n",
    "# compile poygons into dic\n",
    "my_polygons_ = {\"polygon1\":geometry.Polygon(a), \"polygon2\":geometry.Polygon(b)}"
   ]
  },
  {
   "cell_type": "code",
   "execution_count": 11,
   "metadata": {},
   "outputs": [
    {
     "data": {
      "image/svg+xml": [
       "<svg xmlns=\"http://www.w3.org/2000/svg\" xmlns:xlink=\"http://www.w3.org/1999/xlink\" width=\"100.0\" height=\"100.0\" viewBox=\"74.2 9.2 11.599999999999994 21.6\" preserveAspectRatio=\"xMinYMin meet\"><g transform=\"matrix(1,0,0,-1,0,40.0)\"><path fill-rule=\"evenodd\" fill=\"#66cc99\" stroke=\"#555555\" stroke-width=\"0.43200000000000005\" opacity=\"0.6\" d=\"M 75.0,30.0 L 85.0,30.0 L 75.0,10.0 L 75.0,30.0 z\" /></g></svg>"
      ],
      "text/plain": [
       "<shapely.geometry.polygon.Polygon at 0x21f7b1c1190>"
      ]
     },
     "execution_count": 11,
     "metadata": {},
     "output_type": "execute_result"
    }
   ],
   "source": [
    "## let's view pour polygons\n",
    "polygon1"
   ]
  },
  {
   "cell_type": "code",
   "execution_count": 13,
   "metadata": {},
   "outputs": [
    {
     "data": {
      "image/svg+xml": [
       "<svg xmlns=\"http://www.w3.org/2000/svg\" xmlns:xlink=\"http://www.w3.org/1999/xlink\" width=\"100.0\" height=\"100.0\" viewBox=\"77.09328 27.81128 5.095440000000011 4.85144\" preserveAspectRatio=\"xMinYMin meet\"><g transform=\"matrix(1,0,0,-1,0,60.474000000000004)\"><path fill-rule=\"evenodd\" fill=\"#66cc99\" stroke=\"#555555\" stroke-width=\"0.10190880000000022\" opacity=\"0.6\" d=\"M 82.0,32.261 L 79.304,32.474 L 77.282,30.261 L 81.0,28.0 L 82.0,32.261 z\" /></g></svg>"
      ],
      "text/plain": [
       "<shapely.geometry.polygon.Polygon at 0x21f7b1c1130>"
      ]
     },
     "execution_count": 13,
     "metadata": {},
     "output_type": "execute_result"
    }
   ],
   "source": [
    "polygon2"
   ]
  },
  {
   "cell_type": "code",
   "execution_count": 4,
   "metadata": {},
   "outputs": [],
   "source": [
    "## this code to Save polygons as a file to disk\n",
    "## with open('./Polygon_files', \"wb\") as poly_file:\n",
    "    #pickle.dump(Polygon_files, poly_file)"
   ]
  },
  {
   "cell_type": "code",
   "execution_count": 5,
   "metadata": {},
   "outputs": [],
   "source": [
    "## this code to Load polygon from disc\n",
    "## with open('./Polygon_files', \"rb\") as poly_file:\n",
    "    #my_polygons_ = pickle.load(poly_file)"
   ]
  },
  {
   "cell_type": "code",
   "execution_count": 6,
   "metadata": {},
   "outputs": [],
   "source": [
    "## inster the file name\n",
    "##file_name = my_polygons_"
   ]
  },
  {
   "cell_type": "markdown",
   "metadata": {},
   "source": [
    "### Implement simple polygon calculations"
   ]
  },
  {
   "cell_type": "code",
   "execution_count": 9,
   "metadata": {},
   "outputs": [
    {
     "name": "stdout",
     "output_type": "stream",
     "text": [
      "polygon1 is of type: Polygon\n",
      "The center point of polygon1 is: POINT (78.33333333333333 23.33333333333334)\n",
      "The center point of polygon1 is: (75.0, 10.0, 85.0, 30.0)\n",
      "The center point of polygon1 is: 100.0\n",
      "polygon2 is of type: Polygon\n",
      "The center point of polygon2 is: POINT (79.94639383607809 30.56338088289307)\n",
      "The center point of polygon2 is: (77.282, 28.0, 82.0, 32.474)\n",
      "The center point of polygon2 is: 12.250166000000002\n"
     ]
    }
   ],
   "source": [
    "## loop for to run simple calculations for polygons in a file \n",
    "for key in my_polygons_.keys():\n",
    "    print (f\"{key} is of type:\", my_polygons_[key].geom_type)\n",
    "    print (f\"The center point of {key} is:\", my_polygons_[key].centroid)\n",
    "    print (f\"The center point of {key} is:\", my_polygons_[key].bounds)\n",
    "    print (f\"The center point of {key} is:\", my_polygons_[key].area)"
   ]
  }
 ],
 "metadata": {
  "kernelspec": {
   "display_name": "Python 3",
   "language": "python",
   "name": "python3"
  },
  "language_info": {
   "codemirror_mode": {
    "name": "ipython",
    "version": 3
   },
   "file_extension": ".py",
   "mimetype": "text/x-python",
   "name": "python",
   "nbconvert_exporter": "python",
   "pygments_lexer": "ipython3",
   "version": "3.8.5"
  }
 },
 "nbformat": 4,
 "nbformat_minor": 4
}
